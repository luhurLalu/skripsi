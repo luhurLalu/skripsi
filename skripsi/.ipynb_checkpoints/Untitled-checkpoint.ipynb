{
 "cells": [
  {
   "cell_type": "code",
   "execution_count": 2,
   "metadata": {},
   "outputs": [],
   "source": [
    "import os,django\n",
    "import pandas as pd\n",
    "from orm.models import Mahasiswa,Jaringan,Rpl,Multimedia,Tesdasar\n",
    "import math\n",
    "import operator"
   ]
  },
  {
   "cell_type": "code",
   "execution_count": 3,
   "metadata": {},
   "outputs": [],
   "source": [
    "mhs = Mahasiswa.objects.all()\n",
    "mul = Multimedia.objects.all()\n",
    "rpl = Rpl.objects.all()\n",
    "jar = Jaringan.objects.all()\n",
    "tes = Tesdasar.objects.all()"
   ]
  },
  {
   "cell_type": "code",
   "execution_count": 4,
   "metadata": {},
   "outputs": [],
   "source": [
    "def ListMultimedia(mul):\n",
    "    if len(mul)>0:\n",
    "        cols = ['Teori Multimedia','Praktikum Multimedia','Autoring Tools','Pengolahan Citra',\n",
    "                'Pengantar Teknologi Informasi','Interaksi Manusia DanKomputer']\n",
    "        \n",
    "        kel ={\n",
    "            cols[0] : [str(a.TeoriMultimedia) for a in mul],\n",
    "            cols[1] : [str(a.PraktikumMultimedia) for a in mul],\n",
    "            cols[2] : [str(a.AutoringTools) for a in mul],\n",
    "            cols[3] : [str(a.PengolahanCitra) for a in mul],\n",
    "            cols[4] : [str(a.PengantarTeknologiInformasi) for a in mul],\n",
    "            cols[5] : [str(a.InteraksiManusiaDanKomputer) for a in mul],\n",
    "            \n",
    "        }\n",
    "        df = pd.DataFrame(data=kel)\n",
    "        return df\n",
    "    else:\n",
    "        return[]\n",
    "    \n",
    "def ListJaringan(jar):\n",
    "    if len(jar)>0:\n",
    "        cols = ['Teori Jaringan','Praktikum Jaringan','Organisasi dan arsitektur komputer','Pengantar Jaringan',\n",
    "                'Pengantar Sistem Digital','Aljabar Linear']\n",
    "        \n",
    "        kel ={\n",
    "            cols[0] : [str(a.TeoriJaringan) for a in jar],\n",
    "            cols[1] : [str(a.PraktikumJaringan) for a in jar],\n",
    "            cols[2] : [str(a.OrganisasiDanArsitekturKomputer) for a in jar],\n",
    "            cols[3] : [str(a.PengantarJaringan) for a in jar],\n",
    "            cols[4] : [str(a.PengantarSistemDigital) for a in jar],\n",
    "            cols[5] : [str(a.AljabarLinear) for a in jar],\n",
    "            \n",
    "        }\n",
    "        df = pd.DataFrame(data=kel)\n",
    "        return df\n",
    "    else:\n",
    "        return[]    \n",
    "        \n",
    "def ListRpl(rpl):\n",
    "    if len(rpl)>0:\n",
    "        cols = ['Logika Informatika','Algoritma Dan Pemrograman','Pemrograman IV','Praktikum Pemrograman IV',\n",
    "                'Graffika Komputer','Praktikum Graffika Komputer']\n",
    "        \n",
    "        kel ={            \n",
    "            cols[0] : [str(a.LogikaInformatika) for a in rpl],\n",
    "            cols[1] : [str(a.AlgoritmaDanPemrograman) for a in rpl],\n",
    "            cols[2] : [str(a.Pemrograman4) for a in rpl],\n",
    "            cols[3] : [str(a.PraktikumPemrograman4) for a in rpl],\n",
    "            cols[4] : [str(a.GraffikaKomputer) for a in rpl],\n",
    "            cols[5] : [str(a.PraktikumGraffikaKomputer) for a in rpl],\n",
    "        }        \n",
    "        df = pd.DataFrame(data=kel)\n",
    "        return df\n",
    "    else:\n",
    "        return[]\n",
    "    \n",
    "def ListTest(tes):\n",
    "    if len(tes)>0:\n",
    "        cols = ['Multimedia','Jaringan','Rpl']\n",
    "        \n",
    "        kel ={\n",
    "            cols[0] : [str(a.NilaiMultimedia) for a in tes],\n",
    "            cols[1] : [str(a.NilaiJaringan) for a in tes],\n",
    "            cols[2] : [str(a.NilaiRPL) for a in tes],\n",
    "        }\n",
    "        df = pd.DataFrame(data=kel)\n",
    "        return df\n",
    "    else:\n",
    "        return[]"
   ]
  },
  {
   "cell_type": "code",
   "execution_count": 5,
   "metadata": {},
   "outputs": [],
   "source": [
    "mu = pd.DataFrame(data = ListTest(tes).Multimedia)\n",
    "ja = pd.DataFrame(data = ListTest(tes).Jaringan)\n",
    "rp = pd.DataFrame(data = ListTest(tes).Rpl)"
   ]
  },
  {
   "cell_type": "code",
   "execution_count": 6,
   "metadata": {},
   "outputs": [],
   "source": [
    "def hitung(a,b,c):\n",
    "    tampung = list()\n",
    "    for i in a:\n",
    "        if i is 'A':        \n",
    "            tampung.append(6)\n",
    "        elif i == 'B+':        \n",
    "            tampung.append(5)\n",
    "        elif i is 'B':        \n",
    "            tampung.append(4)\n",
    "        elif i == 'C+':        \n",
    "            tampung.append(3)\n",
    "        elif i is 'C':        \n",
    "            tampung.append(2)\n",
    "        elif i is 'D':\n",
    "            tampung.append(1)\n",
    "        else:\n",
    "            continue\n",
    "        rata2 = sum(tampung)/len(tampung)\n",
    "        tmp = [rata2, b]\n",
    "        dframe = pd.DataFrame(data=tmp,columns=[c])\n",
    "    return dframe        \n",
    "\n",
    "def multimedia():\n",
    "    x = hitung(ListMultimedia(mul).loc[0],mu.loc[0][0],'Multimedia')\n",
    "    return x\n",
    "\n",
    "def jaringan():\n",
    "    x = hitung(ListJaringan(jar).loc[0],ja.loc[0][0],'Jaringan')\n",
    "    return x\n",
    "def rpls():\n",
    "    x = hitung(ListRpl(rpl).loc[0],rp.loc[0][0],'Rpl')\n",
    "    return x"
   ]
  },
  {
   "cell_type": "code",
   "execution_count": 7,
   "metadata": {},
   "outputs": [
    {
     "data": {
      "text/html": [
       "<div>\n",
       "<style scoped>\n",
       "    .dataframe tbody tr th:only-of-type {\n",
       "        vertical-align: middle;\n",
       "    }\n",
       "\n",
       "    .dataframe tbody tr th {\n",
       "        vertical-align: top;\n",
       "    }\n",
       "\n",
       "    .dataframe thead th {\n",
       "        text-align: right;\n",
       "    }\n",
       "</style>\n",
       "<table border=\"1\" class=\"dataframe\">\n",
       "  <thead>\n",
       "    <tr style=\"text-align: right;\">\n",
       "      <th></th>\n",
       "      <th>Multimedia</th>\n",
       "      <th>Jaringan</th>\n",
       "      <th>Rpl</th>\n",
       "    </tr>\n",
       "  </thead>\n",
       "  <tbody>\n",
       "    <tr>\n",
       "      <th>0</th>\n",
       "      <td>3.16667</td>\n",
       "      <td>4.66667</td>\n",
       "      <td>3</td>\n",
       "    </tr>\n",
       "    <tr>\n",
       "      <th>1</th>\n",
       "      <td>3</td>\n",
       "      <td>3</td>\n",
       "      <td>2</td>\n",
       "    </tr>\n",
       "  </tbody>\n",
       "</table>\n",
       "</div>"
      ],
      "text/plain": [
       "  Multimedia Jaringan Rpl\n",
       "0    3.16667  4.66667   3\n",
       "1          3        3   2"
      ]
     },
     "execution_count": 7,
     "metadata": {},
     "output_type": "execute_result"
    }
   ],
   "source": [
    "gabung = pd.concat([multimedia(),jaringan(),rpls()],axis=1)\n",
    "tampung =[]\n",
    "for i in range(2):\n",
    "    tamp= []\n",
    "    for j in range(3):\n",
    "        tamp.append(gabung.loc[i][j])\n",
    "    tampung.append(tamp)\n",
    "gabung"
   ]
  },
  {
   "cell_type": "code",
   "execution_count": 11,
   "metadata": {},
   "outputs": [
    {
     "data": {
      "text/plain": [
       "[[[0.0, 0.0], [-1.5000000000000004, 0.0], [0.16666666666666652, 1.0]],\n",
       " [[1.5000000000000004, 0.0], [0.0, 0.0], [1.666666666666667, 1.0]],\n",
       " [[-0.16666666666666652, -1.0], [-1.666666666666667, -1.0], [0.0, 0.0]]]"
      ]
     },
     "execution_count": 11,
     "metadata": {},
     "output_type": "execute_result"
    }
   ],
   "source": [
    "p1 = gabung.shape[1]\n",
    "p2 = gabung.shape[1]\n",
    "p3 = len(gabung.iloc[:,0])\n",
    "arr = []\n",
    "hasil = []\n",
    "for i in range(p1):\n",
    "    arr1 = []\n",
    "    hasil1 = []\n",
    "    for j in range(p2):\n",
    "        arr2 = []\n",
    "        hasil2= []\n",
    "        for k in range(p3):\n",
    "            z = float(gabung.iloc[:,i][k])-float(gabung.iloc[:,j][k])\n",
    "            m = 0            \n",
    "            if (z <= 0):\n",
    "                m = 0\n",
    "            else:\n",
    "                m = 1\n",
    "            hasil2.append(z)\n",
    "            arr2.append(m)\n",
    "        arr1.append(arr2)\n",
    "        hasil1.append(hasil2)\n",
    "    arr.append(arr1)\n",
    "    hasil.append(hasil1)\n",
    "hasil"
   ]
  },
  {
   "cell_type": "code",
   "execution_count": 18,
   "metadata": {},
   "outputs": [],
   "source": [
    "hasil1 = pd.DataFrame(arr)\n",
    "hasil2 = pd.DataFrame(hasil)"
   ]
  },
  {
   "cell_type": "code",
   "execution_count": 19,
   "metadata": {},
   "outputs": [
    {
     "data": {
      "text/html": [
       "<div>\n",
       "<style scoped>\n",
       "    .dataframe tbody tr th:only-of-type {\n",
       "        vertical-align: middle;\n",
       "    }\n",
       "\n",
       "    .dataframe tbody tr th {\n",
       "        vertical-align: top;\n",
       "    }\n",
       "\n",
       "    .dataframe thead th {\n",
       "        text-align: right;\n",
       "    }\n",
       "</style>\n",
       "<table border=\"1\" class=\"dataframe\">\n",
       "  <thead>\n",
       "    <tr style=\"text-align: right;\">\n",
       "      <th></th>\n",
       "      <th>0</th>\n",
       "      <th>1</th>\n",
       "      <th>2</th>\n",
       "    </tr>\n",
       "  </thead>\n",
       "  <tbody>\n",
       "    <tr>\n",
       "      <th>0</th>\n",
       "      <td>[0.0, 0.0]</td>\n",
       "      <td>[-1.5000000000000004, 0.0]</td>\n",
       "      <td>[0.16666666666666652, 1.0]</td>\n",
       "    </tr>\n",
       "    <tr>\n",
       "      <th>1</th>\n",
       "      <td>[1.5000000000000004, 0.0]</td>\n",
       "      <td>[0.0, 0.0]</td>\n",
       "      <td>[1.666666666666667, 1.0]</td>\n",
       "    </tr>\n",
       "    <tr>\n",
       "      <th>2</th>\n",
       "      <td>[-0.16666666666666652, -1.0]</td>\n",
       "      <td>[-1.666666666666667, -1.0]</td>\n",
       "      <td>[0.0, 0.0]</td>\n",
       "    </tr>\n",
       "  </tbody>\n",
       "</table>\n",
       "</div>"
      ],
      "text/plain": [
       "                              0                           1  \\\n",
       "0                    [0.0, 0.0]  [-1.5000000000000004, 0.0]   \n",
       "1     [1.5000000000000004, 0.0]                  [0.0, 0.0]   \n",
       "2  [-0.16666666666666652, -1.0]  [-1.666666666666667, -1.0]   \n",
       "\n",
       "                            2  \n",
       "0  [0.16666666666666652, 1.0]  \n",
       "1    [1.666666666666667, 1.0]  \n",
       "2                  [0.0, 0.0]  "
      ]
     },
     "execution_count": 19,
     "metadata": {},
     "output_type": "execute_result"
    }
   ],
   "source": [
    "hasil2"
   ]
  },
  {
   "cell_type": "code",
   "execution_count": 20,
   "metadata": {},
   "outputs": [
    {
     "data": {
      "text/html": [
       "<div>\n",
       "<style scoped>\n",
       "    .dataframe tbody tr th:only-of-type {\n",
       "        vertical-align: middle;\n",
       "    }\n",
       "\n",
       "    .dataframe tbody tr th {\n",
       "        vertical-align: top;\n",
       "    }\n",
       "\n",
       "    .dataframe thead th {\n",
       "        text-align: right;\n",
       "    }\n",
       "</style>\n",
       "<table border=\"1\" class=\"dataframe\">\n",
       "  <thead>\n",
       "    <tr style=\"text-align: right;\">\n",
       "      <th></th>\n",
       "      <th>0</th>\n",
       "      <th>1</th>\n",
       "      <th>2</th>\n",
       "    </tr>\n",
       "  </thead>\n",
       "  <tbody>\n",
       "    <tr>\n",
       "      <th>0</th>\n",
       "      <td>[0, 0]</td>\n",
       "      <td>[0, 0]</td>\n",
       "      <td>[1, 1]</td>\n",
       "    </tr>\n",
       "    <tr>\n",
       "      <th>1</th>\n",
       "      <td>[1, 0]</td>\n",
       "      <td>[0, 0]</td>\n",
       "      <td>[1, 1]</td>\n",
       "    </tr>\n",
       "    <tr>\n",
       "      <th>2</th>\n",
       "      <td>[0, 0]</td>\n",
       "      <td>[0, 0]</td>\n",
       "      <td>[0, 0]</td>\n",
       "    </tr>\n",
       "  </tbody>\n",
       "</table>\n",
       "</div>"
      ],
      "text/plain": [
       "        0       1       2\n",
       "0  [0, 0]  [0, 0]  [1, 1]\n",
       "1  [1, 0]  [0, 0]  [1, 1]\n",
       "2  [0, 0]  [0, 0]  [0, 0]"
      ]
     },
     "execution_count": 20,
     "metadata": {},
     "output_type": "execute_result"
    }
   ],
   "source": [
    "hasil1"
   ]
  },
  {
   "cell_type": "code",
   "execution_count": 22,
   "metadata": {},
   "outputs": [
    {
     "data": {
      "text/plain": [
       "[[0.0, 0.0, 1.0], [0.5, 0.0, 1.0], [0.0, 0.0, 0.0]]"
      ]
     },
     "execution_count": 22,
     "metadata": {},
     "output_type": "execute_result"
    }
   ],
   "source": [
    "akhir = []\n",
    "for i in range(len(gabung.iloc[0])):\n",
    "    akhir1 = []\n",
    "    for j in range(len(arr[i])):\n",
    "        bla = sum(arr[i][j])*(1/len(arr[i][j]))        \n",
    "        akhir1.append(bla)\n",
    "    akhir.append(akhir1)\n",
    "akhir"
   ]
  },
  {
   "cell_type": "code",
   "execution_count": 36,
   "metadata": {},
   "outputs": [
    {
     "data": {
      "text/html": [
       "<div>\n",
       "<style scoped>\n",
       "    .dataframe tbody tr th:only-of-type {\n",
       "        vertical-align: middle;\n",
       "    }\n",
       "\n",
       "    .dataframe tbody tr th {\n",
       "        vertical-align: top;\n",
       "    }\n",
       "\n",
       "    .dataframe thead th {\n",
       "        text-align: right;\n",
       "    }\n",
       "</style>\n",
       "<table border=\"1\" class=\"dataframe\">\n",
       "  <thead>\n",
       "    <tr style=\"text-align: right;\">\n",
       "      <th></th>\n",
       "      <th>A</th>\n",
       "      <th>B</th>\n",
       "      <th>C</th>\n",
       "    </tr>\n",
       "  </thead>\n",
       "  <tbody>\n",
       "    <tr>\n",
       "      <th>A</th>\n",
       "      <td>0.0</td>\n",
       "      <td>0.0</td>\n",
       "      <td>1.0</td>\n",
       "    </tr>\n",
       "    <tr>\n",
       "      <th>B</th>\n",
       "      <td>0.5</td>\n",
       "      <td>0.0</td>\n",
       "      <td>1.0</td>\n",
       "    </tr>\n",
       "    <tr>\n",
       "      <th>C</th>\n",
       "      <td>0.0</td>\n",
       "      <td>0.0</td>\n",
       "      <td>0.0</td>\n",
       "    </tr>\n",
       "  </tbody>\n",
       "</table>\n",
       "</div>"
      ],
      "text/plain": [
       "     A    B    C\n",
       "A  0.0  0.0  1.0\n",
       "B  0.5  0.0  1.0\n",
       "C  0.0  0.0  0.0"
      ]
     },
     "execution_count": 36,
     "metadata": {},
     "output_type": "execute_result"
    }
   ],
   "source": [
    "tmp = []\n",
    "for i in range(len(akhir)):\n",
    "    tmp1 = []\n",
    "    for j in range(len(akhir[i])):\n",
    "        tmp1.append(akhir[i][j])\n",
    "    tmp.append(tmp1)\n",
    "promethee1 = pd.DataFrame(data=tmp, columns = ['A','B','C'], index = ['A', 'B', 'C'])\n",
    "promethee1"
   ]
  },
  {
   "cell_type": "code",
   "execution_count": 39,
   "metadata": {},
   "outputs": [],
   "source": [
    "def lflow():\n",
    "    lf=[]\n",
    "    for i in range(len(akhir)):\n",
    "        jwb = (1/(len(akhir) - 1)) * sum(akhir[i])\n",
    "        lf.append(jwb)\n",
    "    return lf\n",
    "\n",
    "def eflow():\n",
    "    ef = []\n",
    "    for i in range(len(promethee1)):\n",
    "        jwb = (1/(len(promethee1) - 1)) * sum(promethee1.iloc[:,i])        \n",
    "        ef.append(jwb)            \n",
    "    return ef\n",
    "\n",
    "def nef():\n",
    "    lf=lflow()\n",
    "    ef=eflow()\n",
    "    nf = []    \n",
    "    for i in range(len(ef)):\n",
    "        jwb = lf[i]-ef[i]\n",
    "        nf.append(jwb)\n",
    "        nflow=pd.DataFrame(data=nf,columns=['Net Flow'])       \n",
    "    return nflow\n",
    "entringflow= pd.DataFrame(data=eflow(),columns=['Entring Flow'])    \n",
    "leavingflow= pd.DataFrame(data=lflow(),columns=['Leaving Flow'])"
   ]
  },
  {
   "cell_type": "code",
   "execution_count": 14,
   "metadata": {},
   "outputs": [
    {
     "data": {
      "text/html": [
       "<div>\n",
       "<style scoped>\n",
       "    .dataframe tbody tr th:only-of-type {\n",
       "        vertical-align: middle;\n",
       "    }\n",
       "\n",
       "    .dataframe tbody tr th {\n",
       "        vertical-align: top;\n",
       "    }\n",
       "\n",
       "    .dataframe thead th {\n",
       "        text-align: right;\n",
       "    }\n",
       "</style>\n",
       "<table border=\"1\" class=\"dataframe\">\n",
       "  <thead>\n",
       "    <tr style=\"text-align: right;\">\n",
       "      <th></th>\n",
       "      <th>Leaving Flow</th>\n",
       "      <th>Entring Flow</th>\n",
       "      <th>Net Flow</th>\n",
       "    </tr>\n",
       "  </thead>\n",
       "  <tbody>\n",
       "    <tr>\n",
       "      <th>0</th>\n",
       "      <td>0.50</td>\n",
       "      <td>0.25</td>\n",
       "      <td>0.25</td>\n",
       "    </tr>\n",
       "    <tr>\n",
       "      <th>1</th>\n",
       "      <td>0.75</td>\n",
       "      <td>0.00</td>\n",
       "      <td>0.75</td>\n",
       "    </tr>\n",
       "    <tr>\n",
       "      <th>2</th>\n",
       "      <td>0.00</td>\n",
       "      <td>1.00</td>\n",
       "      <td>-1.00</td>\n",
       "    </tr>\n",
       "  </tbody>\n",
       "</table>\n",
       "</div>"
      ],
      "text/plain": [
       "   Leaving Flow  Entring Flow  Net Flow\n",
       "0          0.50          0.25      0.25\n",
       "1          0.75          0.00      0.75\n",
       "2          0.00          1.00     -1.00"
      ]
     },
     "execution_count": 14,
     "metadata": {},
     "output_type": "execute_result"
    }
   ],
   "source": [
    "promethee2=pd.concat([leavingflow,entringflow,nef()],axis=1)\n",
    "promethee2"
   ]
  },
  {
   "cell_type": "code",
   "execution_count": 15,
   "metadata": {},
   "outputs": [
    {
     "data": {
      "text/html": [
       "<div>\n",
       "<style scoped>\n",
       "    .dataframe tbody tr th:only-of-type {\n",
       "        vertical-align: middle;\n",
       "    }\n",
       "\n",
       "    .dataframe tbody tr th {\n",
       "        vertical-align: top;\n",
       "    }\n",
       "\n",
       "    .dataframe thead th {\n",
       "        text-align: right;\n",
       "    }\n",
       "</style>\n",
       "<table border=\"1\" class=\"dataframe\">\n",
       "  <thead>\n",
       "    <tr style=\"text-align: right;\">\n",
       "      <th></th>\n",
       "      <th>Leaving Flow</th>\n",
       "      <th>Entring Flow</th>\n",
       "      <th>Net Flow</th>\n",
       "    </tr>\n",
       "  </thead>\n",
       "  <tbody>\n",
       "    <tr>\n",
       "      <th>1</th>\n",
       "      <td>0.75</td>\n",
       "      <td>0.00</td>\n",
       "      <td>0.75</td>\n",
       "    </tr>\n",
       "    <tr>\n",
       "      <th>0</th>\n",
       "      <td>0.50</td>\n",
       "      <td>0.25</td>\n",
       "      <td>0.25</td>\n",
       "    </tr>\n",
       "    <tr>\n",
       "      <th>2</th>\n",
       "      <td>0.00</td>\n",
       "      <td>1.00</td>\n",
       "      <td>-1.00</td>\n",
       "    </tr>\n",
       "  </tbody>\n",
       "</table>\n",
       "</div>"
      ],
      "text/plain": [
       "   Leaving Flow  Entring Flow  Net Flow\n",
       "1          0.75          0.00      0.75\n",
       "0          0.50          0.25      0.25\n",
       "2          0.00          1.00     -1.00"
      ]
     },
     "execution_count": 15,
     "metadata": {},
     "output_type": "execute_result"
    }
   ],
   "source": [
    "perangkingan = promethee2.sort_values(by='Net Flow', ascending=False)\n",
    "perangkingan"
   ]
  },
  {
   "cell_type": "code",
   "execution_count": 18,
   "metadata": {},
   "outputs": [
    {
     "name": "stderr",
     "output_type": "stream",
     "text": [
      "/opt/anaconda3/envs/promethee/lib/python3.6/site-packages/ipykernel_launcher.py:1: FutureWarning: Method .as_matrix will be removed in a future version. Use .values instead.\n",
      "  \"\"\"Entry point for launching an IPython kernel.\n"
     ]
    },
    {
     "data": {
      "text/plain": [
       "array([[ 0.75,  0.  ,  0.75],\n",
       "       [ 0.5 ,  0.25,  0.25],\n",
       "       [ 0.  ,  1.  , -1.  ]])"
      ]
     },
     "execution_count": 18,
     "metadata": {},
     "output_type": "execute_result"
    }
   ],
   "source": [
    "perangkingan.as_matrix()"
   ]
  },
  {
   "cell_type": "code",
   "execution_count": null,
   "metadata": {},
   "outputs": [],
   "source": []
  }
 ],
 "metadata": {
  "kernelspec": {
   "display_name": "Django Shell-Plus",
   "language": "python",
   "name": "django_extensions"
  },
  "language_info": {
   "codemirror_mode": {
    "name": "ipython",
    "version": 3
   },
   "file_extension": ".py",
   "mimetype": "text/x-python",
   "name": "python",
   "nbconvert_exporter": "python",
   "pygments_lexer": "ipython3",
   "version": "3.6.6"
  }
 },
 "nbformat": 4,
 "nbformat_minor": 2
}
